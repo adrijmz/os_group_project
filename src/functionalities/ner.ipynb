{
 "cells": [
  {
   "cell_type": "code",
   "execution_count": 11,
   "metadata": {},
   "outputs": [],
   "source": [
    "from transformers import AutoTokenizer, AutoModelForTokenClassification, pipeline\n",
    "import os\n",
    "import json\n"
   ]
  },
  {
   "cell_type": "code",
   "execution_count": 22,
   "metadata": {},
   "outputs": [
    {
     "name": "stderr",
     "output_type": "stream",
     "text": [
      "Some weights of the model checkpoint at dbmdz/bert-large-cased-finetuned-conll03-english were not used when initializing BertForTokenClassification: ['bert.pooler.dense.bias', 'bert.pooler.dense.weight']\n",
      "- This IS expected if you are initializing BertForTokenClassification from the checkpoint of a model trained on another task or with another architecture (e.g. initializing a BertForSequenceClassification model from a BertForPreTraining model).\n",
      "- This IS NOT expected if you are initializing BertForTokenClassification from the checkpoint of a model that you expect to be exactly identical (initializing a BertForSequenceClassification model from a BertForSequenceClassification model).\n"
     ]
    }
   ],
   "source": [
    "acknowledges_dir = '../../papers/acknowledgements'\n",
    "ner_dir = '../../papers/ner'\n",
    "\n",
    "os.makedirs(ner_dir, exist_ok=True)\n",
    "\n",
    "model_name = \"dbmdz/bert-large-cased-finetuned-conll03-english\"\n",
    "tokenizer = AutoTokenizer.from_pretrained(model_name)\n",
    "model = AutoModelForTokenClassification.from_pretrained(model_name)\n",
    "\n",
    "results = []\n",
    "\n",
    "nlp_ner = pipeline(\"ner\", model=model, tokenizer=tokenizer, aggregation_strategy=\"simple\")\n",
    "\n",
    "\n",
    "for filename in os.listdir(acknowledges_dir):\n",
    "    with open(os.path.join(acknowledges_dir, filename)) as f:\n",
    "        with open(os.path.join(ner_dir, filename), 'w') as f2:\n",
    "            entities = nlp_ner(f.read())\n",
    "            filter_entities = []\n",
    "            for entity in entities:\n",
    "                if entity[\"entity_group\"] == 'MISC' or entity['entity_group'] == 'ORG' or entity['entity_group'] == 'PER' and entity['score'] > 0.7:\n",
    "                    filter_entities.append(entity[\"word\"])\n",
    "            f2.write(str(filter_entities))"
   ]
  }
 ],
 "metadata": {
  "kernelspec": {
   "display_name": "os_group",
   "language": "python",
   "name": "python3"
  },
  "language_info": {
   "codemirror_mode": {
    "name": "ipython",
    "version": 3
   },
   "file_extension": ".py",
   "mimetype": "text/x-python",
   "name": "python",
   "nbconvert_exporter": "python",
   "pygments_lexer": "ipython3",
   "version": "3.8.19"
  }
 },
 "nbformat": 4,
 "nbformat_minor": 2
}
